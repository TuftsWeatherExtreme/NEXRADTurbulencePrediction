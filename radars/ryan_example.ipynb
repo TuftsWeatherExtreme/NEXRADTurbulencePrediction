{
 "cells": [
  {
   "cell_type": "markdown",
   "id": "7b4782e8-8323-42d8-a360-2cc5c827f35f",
   "metadata": {},
   "source": [
    "## NEXRAD Level 2 Plotting Example\n",
    "\n",
    "*Author: Ryan Purciel*\n",
    "\n",
    "An example on how to plot NEXRAD Level 2 data"
   ]
  },
  {
   "cell_type": "code",
   "execution_count": null,
   "id": "5bd90ad5-65e9-4c66-b604-9c137a12d99d",
   "metadata": {},
   "outputs": [],
   "source": [
    "import matplotlib as mpl\n",
    "import matplotlib.pyplot as plt\n",
    "import matplotlib.ticker as mticker\n",
    "import cartopy\n",
    "import cartopy.crs as ccrs\n",
    "import cartopy.feature as cfeature\n",
    "import cartopy.io.shapereader as shpreader\n",
    "from cartopy.feature import NaturalEarthFeature\n",
    "from matplotlib.colors import from_levels_and_colors\n",
    "\n",
    "def define_hi_res_fig(lon_bounds: tuple[float, float],\n",
    "                      lat_bounds: tuple[float, float],\n",
    "                      projection: cartopy.crs = ccrs.PlateCarree(),\n",
    "                      draw_earth_features: bool = True,\n",
    "                      draw_gridlines: bool = False) -> tuple[mpl.figure.Figure, mpl.axes.Axes]:\n",
    "\n",
    "    fig = plt.figure(figsize=(22,16))\n",
    "    ax = plt.axes(projection = ccrs.PlateCarree())\n",
    "    ax.set_extent([min(lon_bounds), max(lon_bounds), min(lat_bounds), max(lat_bounds)], \n",
    "                  crs=ccrs.PlateCarree())\n",
    "\n",
    "    if draw_earth_features:\n",
    "        states = NaturalEarthFeature(category=\"cultural\", scale=\"50m\",\n",
    "                                              facecolor=\"none\",\n",
    "                                              name=\"admin_1_states_provinces\")\n",
    "        ax.add_feature(states, linewidth=1.0, edgecolor=\"black\")\n",
    "        ax.coastlines('50m', linewidth=1.5)\n",
    "        ax.add_feature(cartopy.feature.LAKES.with_scale('10m'), linestyle='-', linewidth=0.5, alpha=1,edgecolor='blue',facecolor='none')\n",
    "        ax.add_feature(cfeature.BORDERS, linewidth=1.5)\n",
    "\n",
    "    if draw_gridlines:\n",
    "        ax.set_xlabel('Latitude')\n",
    "        ax.set_ylabel('Longitude')\n",
    "\n",
    "        gl = ax.gridlines(crs=ccrs.PlateCarree(), \n",
    "                          linewidth=1, \n",
    "                          color='black', \n",
    "                          alpha=0.5, \n",
    "                          linestyle='--', \n",
    "                          draw_labels=True)\n",
    "\n",
    "        gl.xlabels_top = False\n",
    "        gl.ylabels_left = True\n",
    "        gl.ylabels_right= False\n",
    "        gl.xlines = True\n",
    "        gl.ylines = True\n",
    "\n",
    "        gl.xlocator = mticker.FixedLocator(np.arange(min(lon_bounds), \n",
    "                                                     max(lon_bounds), \n",
    "                                                     2))\n",
    "        gl.ylocator = mticker.FixedLocator(np.arange(min(lat_bounds), \n",
    "                                                     max(lat_bounds), \n",
    "                                                     1))\n",
    "\n",
    "    return fig, ax"
   ]
  },
  {
   "cell_type": "code",
   "execution_count": null,
   "id": "e58baf25-deca-483a-8568-9bf9dc9c392a",
   "metadata": {},
   "outputs": [],
   "source": [
    "fig, ax = define_hi_res_fig([-119, -121],[40, 39])"
   ]
  },
  {
   "cell_type": "code",
   "execution_count": null,
   "id": "fbf7d19b-cedd-47ec-b706-1376c28588d9",
   "metadata": {},
   "outputs": [],
   "source": [
    "import numpy as np\n",
    "\n",
    "NEXRAD_SWEEP = 8\n",
    "\n",
    "DBZ_LEVELS = np.arange(5., 75., 5.)\n",
    "\n",
    "DBZ_COLORS = np.array([[4,233,231],\n",
    "                      [1,159,244], \n",
    "                      [3,0,244],\n",
    "                      [2,253,2], \n",
    "                      [1,197,1],\n",
    "                      [0,142,0], \n",
    "                      [253,248,2],\n",
    "                      [229,188,0], \n",
    "                      [253,149,0],\n",
    "                      [253,0,0], \n",
    "                      [212,0,0],\n",
    "                      [188,0,0],\n",
    "                      [248,0,253],\n",
    "                      [152,84,198]], \n",
    "                      np.float32) / 255.0\n",
    "\n",
    "DBZ_CMAP, DBZ_NORM = from_levels_and_colors(DBZ_LEVELS, \n",
    "                                            DBZ_COLORS,\n",
    "                                            extend=\"max\")"
   ]
  },
  {
   "cell_type": "code",
   "execution_count": null,
   "id": "4070a314-16d3-47fd-ba1f-2e776d4449f1",
   "metadata": {},
   "outputs": [],
   "source": [
    "import pyart\n",
    "\n",
    "data = pyart.io.read_nexrad_archive(\"raw_radar_data/KRGX20240107_000309_V06\")\n",
    "radar_display = pyart.graph.RadarMapDisplay(data)"
   ]
  },
  {
   "cell_type": "code",
   "execution_count": null,
   "id": "54dbc5d5-5b55-43cf-903d-56b3a65a3523",
   "metadata": {},
   "outputs": [],
   "source": [
    "radar_display.plot_ppi_map('reflectivity', \n",
    "                     NEXRAD_SWEEP, \n",
    "                     colorbar_flag=False, \n",
    "                     title_flag=False,\n",
    "                     projection=ccrs.PlateCarree(), \n",
    "                     ticks = DBZ_LEVELS, \n",
    "                     cmap = DBZ_CMAP, \n",
    "                     norm = DBZ_NORM,\n",
    "                     # lat_lines=np.arange(extent[2], extent[3], .50), \n",
    "                     # lon_lines=np.arange(extent[0], extent[1], .50),\n",
    "                     vmin=-12, \n",
    "                     vmax=64, \n",
    "                     ax=ax)\n",
    "fig"
   ]
  },
  {
   "cell_type": "code",
   "execution_count": null,
   "id": "39e198e3-90db-4266-8b84-399a49bff4d0",
   "metadata": {},
   "outputs": [],
   "source": [
    "cb = fig.colorbar(mpl.cm.ScalarMappable(norm=DBZ_NORM, cmap=DBZ_CMAP),\n",
    "                  ax=ax,\n",
    "                  orientation = \"vertical\", \n",
    "                  pad=.05,\n",
    "                  shrink=0.7,\n",
    "                  use_gridspec=False)\n",
    "cb.set_label('Reflectivity (dBZ)', size='x-large')\n",
    "fig"
   ]
  },
  {
   "cell_type": "code",
   "execution_count": null,
   "id": "66f3a515-93fe-44bf-b720-0210293f924d",
   "metadata": {},
   "outputs": [],
   "source": [
    "from datetime import datetime\n",
    "scan_time = datetime.strptime(data.time['units'][14:], \"%Y-%m-%dT%H:%M:%SZ\")\n",
    "scan_time"
   ]
  },
  {
   "cell_type": "code",
   "execution_count": null,
   "id": "f09e3247-2a44-49e3-bbce-ebf8d13171d9",
   "metadata": {},
   "outputs": [],
   "source": [
    "data.metadata['instrument_name']"
   ]
  },
  {
   "cell_type": "code",
   "execution_count": null,
   "id": "42eaaa00-efa2-4fab-95c3-fc39e66baa0c",
   "metadata": {},
   "outputs": [],
   "source": [
    "scans = data.fixed_angle['data']\n",
    "scans\n",
    "\n",
    "ang = 0.5\n",
    "\n",
    "scan_ang = scans[(np.abs(scans-ang)).argmin()]\n",
    "scan_idx = (np.abs(scans-ang)).argmin()\n",
    "scans"
   ]
  },
  {
   "cell_type": "code",
   "execution_count": null,
   "id": "b2fc3071-b4f6-4a9c-b0dd-a77d9a88bb6e",
   "metadata": {},
   "outputs": [],
   "source": [
    "fields = [field for field in data.fields]\n",
    "fields"
   ]
  }
 ],
 "metadata": {
  "kernelspec": {
   "display_name": ".venv",
   "language": "python",
   "name": "python3"
  },
  "language_info": {
   "codemirror_mode": {
    "name": "ipython",
    "version": 3
   },
   "file_extension": ".py",
   "mimetype": "text/x-python",
   "name": "python",
   "nbconvert_exporter": "python",
   "pygments_lexer": "ipython3",
   "version": "3.10.0"
  }
 },
 "nbformat": 4,
 "nbformat_minor": 5
}
