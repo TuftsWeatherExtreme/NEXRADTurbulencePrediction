{
 "cells": [
  {
   "cell_type": "code",
   "execution_count": null,
   "metadata": {},
   "outputs": [],
   "source": [
    "import pandas as pd\n",
    "import numpy as np\n",
    "from pyart.io import read_nexrad_archive\n",
    "from datetime import datetime, timedelta\n",
    "import boto3\n",
    "from scipy.spatial import cKDTree\n",
    "from concurrent.futures import ThreadPoolExecutor, as_completed\n",
    "import bisect\n",
    "import asyncio\n",
    "from aiobotocore.session import get_session\n",
    "\n",
    "def get_file_time(filename, date):\n",
    "    \"\"\"\n",
    "        Purpose: Gets the time of a given nexrad file and returns it as a datetime\n",
    "        Arguments: \n",
    "            filename: The filename for a given nexrad file, will have _HHMMSS_\n",
    "                in it to parse into the datetime\n",
    "            dt: The date containing the day, month, and year of the nexrad file\n",
    "        Returns: A datetime representing when this pirep was created\n",
    "    \"\"\"\n",
    "    # Example filenames below\n",
    "    \"YEAR/MONTH/DAY/SITE_CODE/{SITE_CODE}{YEAR}{MONTH}{DAY}_{HHMMSS}_VO6\"\n",
    "    \"2024/12/05/KAKQ/KAKQ20241205_001256_V06\"\n",
    "    # Split to get just the {HHMMSS} part of the string and put these values in a datetime\n",
    "    filetime = filename['Key'].split(\"_\")[1]\n",
    "    hour = int(filetime[:2])\n",
    "    minute = int(filetime[2:4])\n",
    "    second = int(filetime[4:])\n",
    "    return datetime(year=date.year, month=date.month, day=date.day, hour=hour, minute=minute, second=second)\n"
   ]
  },
  {
   "cell_type": "code",
   "execution_count": null,
   "metadata": {},
   "outputs": [],
   "source": [
    "def get_pireps(filename: str) -> pd.DataFrame:\n",
    "    \"\"\"\n",
    "        Purpose: \n",
    "           Gets the pireps we'd like to get the nexrad data for\n",
    "        Arguments:\n",
    "            filename: The filename for the file with the pireps we want\n",
    "        Return: A pandas df of the pireps to find the nexrad data for\n",
    "    \"\"\"\n",
    "    return pd.read_csv(filename)\n"
   ]
  },
  {
   "cell_type": "code",
   "execution_count": null,
   "metadata": {},
   "outputs": [],
   "source": [
    "# Define a helper function to find the closest sites\n",
    "def find_5_closest_sites(row, nexrad_tree, site_codes):\n",
    "    pirep_coord = np.radians([row['LAT'], row['LON']])\n",
    "    distances, indices = nexrad_tree.query(pirep_coord, k=5)    \n",
    "    return tuple(site_codes[indices])"
   ]
  },
  {
   "cell_type": "code",
   "execution_count": null,
   "metadata": {},
   "outputs": [],
   "source": [
    "pireps_df = get_pireps(\"clean_pirep_data/2025/01_turb_pireps.csv\")\n",
    "print(pireps_df[['LAT', 'LON']].head(5))"
   ]
  },
  {
   "cell_type": "code",
   "execution_count": null,
   "metadata": {},
   "outputs": [],
   "source": [
    "def get_closest_sites(pireps_df):\n",
    "    \"\"\"\n",
    "    \n",
    "    \"\"\"\n",
    "    nexrad_sites = pd.read_csv(\"nexrad_sites.csv\")\n",
    "    nexrad_coords = nexrad_sites[['Latitude', 'Longitude']].to_numpy()\n",
    "    # Using radians here allows the cKDTree to treat as Euclidean which works pretty well\n",
    "    nexrad_tree = cKDTree(np.radians(nexrad_coords))\n",
    "\n",
    "    site_codes = nexrad_sites['Site Code'].to_numpy()\n",
    "    # Apply the helper function to find closest sites\n",
    "    pireps_df['nexrad_sites'] = pireps_df.apply(find_5_closest_sites, axis=1, args=(nexrad_tree, site_codes))\n",
    "    return pireps_df"
   ]
  },
  {
   "cell_type": "code",
   "execution_count": null,
   "metadata": {},
   "outputs": [],
   "source": [
    "pireps_df_w_sites = get_closest_sites(pireps_df)\n",
    "print(pireps_df_w_sites[['LAT', 'LON', 'nexrad_sites']].head(5))"
   ]
  },
  {
   "cell_type": "code",
   "execution_count": null,
   "metadata": {},
   "outputs": [],
   "source": [
    "async def s3_list_nexrad_files(date, site, session):\n",
    "    \"\"\"\n",
    "    Function to process a single (date, site) pair.\n",
    "    \"\"\"\n",
    "    prefix = f\"{date.year}/{date.month:02}/{date.day:02}/{site}\"\n",
    "    async with session.create_client('s3', region_name='us-east-1') as s3:\n",
    "        response = await s3.list_objects_v2(Bucket='noaa-nexrad-level2', Prefix=prefix)\n",
    "        files = response.get(\"Contents\", [])\n",
    "        return ((date, site), [get_file_time(file, date) for file in files]) if files else ((date, site), [])"
   ]
  },
  {
   "cell_type": "code",
   "execution_count": null,
   "metadata": {},
   "outputs": [],
   "source": [
    "async def batch_list_nexrad_times(unique_requests):\n",
    "    \"\"\"\n",
    "    Batch fetches available NEXRAD file times for multiple sites and datetimes.\n",
    "    \"\"\"\n",
    "    results = {}\n",
    "    session = get_session()\n",
    "    tasks = [s3_list_nexrad_files(date, site, session) for date, site in unique_requests]\n",
    "    \n",
    "\n",
    "    # As tasks complete, collect results\n",
    "    for count, task in enumerate(asyncio.as_completed(tasks), start=1):\n",
    "        (date, site), result = await task\n",
    "        results[(date, site)] = result\n",
    "\n",
    "    return results\n"
   ]
  },
  {
   "cell_type": "code",
   "execution_count": null,
   "metadata": {},
   "outputs": [],
   "source": [
    "def generate_unique_requests(pireps_df):\n",
    "    unique_requests = {(day, site) \n",
    "                       for sites, dt in zip(pireps_df['nexrad_sites'], pireps_df['datetime']) \n",
    "                       for site in sites \n",
    "                       for day in {dt.date(), (dt - timedelta(days=1)).date(), (dt + timedelta(days=1)).date()}}\n",
    "    print(f\"About to perform {len(unique_requests)} list_objects_v2 requests\")\n",
    "    return unique_requests\n",
    "    "
   ]
  },
  {
   "cell_type": "code",
   "execution_count": null,
   "metadata": {},
   "outputs": [],
   "source": [
    "pireps_df['datetime'] = pd.to_datetime(pireps_df['datetime'])\n",
    "unique_requests = generate_unique_requests(pireps_df)"
   ]
  },
  {
   "cell_type": "code",
   "execution_count": null,
   "metadata": {},
   "outputs": [],
   "source": [
    "# Takes around 5 minutes to process\n",
    "nexrad_times_dict = await batch_list_nexrad_times(unique_requests)\n",
    "print(\"Processing complete\")\n",
    "print(len(nexrad_times_dict))\n",
    "print(nexrad_times_dict)"
   ]
  },
  {
   "cell_type": "code",
   "execution_count": null,
   "metadata": {},
   "outputs": [],
   "source": [
    "def nearest_time(times: list, pirep_dt: datetime) -> datetime:\n",
    "    \"\"\"\n",
    "        Purpose: Returns the nearest time to pirep_time in times\n",
    "        Arguments:\n",
    "            times: A list of all times of nexrad files for the previous day\n",
    "                current day, and next day\n",
    "            pirep_time: The actual time of the pirep\n",
    "        Returns: The nearest time to pirep_time that a nexrad data file was\n",
    "            generated at\n",
    "\n",
    "    \"\"\"\n",
    "    idx = bisect.bisect_left(times, pirep_dt)\n",
    "    if idx >= len(times) - 1:\n",
    "        return times[-1]\n",
    "    prev_time = times[idx]\n",
    "    next_time = times[idx + 1]\n",
    "    return prev_time # Just return prev_time - OLD: if pirep_dt - prev_time <= next_time - pirep_dt else next_time"
   ]
  },
  {
   "cell_type": "code",
   "execution_count": null,
   "metadata": {},
   "outputs": [],
   "source": [
    "def get_closest_nexrad_files(pireps_df):\n",
    "    \n",
    "    all_radars = []\n",
    "    missing = 0\n",
    "    for index, pirep in pireps_df.iterrows():\n",
    "        pirep_dt = pirep['datetime']\n",
    "        radars = list()\n",
    "        for site_code in pirep['nexrad_sites']:\n",
    "            # times will store all possible times of nexrad files nearby\n",
    "            times = list()\n",
    "\n",
    "            # When we're close to another day, add that day's times too (in order)\n",
    "            if (pirep_dt - timedelta(minutes=30)).day != pirep_dt.day:\n",
    "                times += nexrad_times_dict[((pirep_dt - timedelta(minutes=30)).date(), site_code)]\n",
    "            times += nexrad_times_dict[(pirep_dt.date(), site_code)]\n",
    "            if (pirep_dt + timedelta(minutes=30)).day != pirep_dt.day:\n",
    "                times += nexrad_times_dict[((pirep_dt + timedelta(minutes=30)).date(), site_code)]\n",
    "            \n",
    "            if len(times) == 0:\n",
    "                missing += 1\n",
    "            else:\n",
    "                nexrad_dt = nearest_time(times, pirep_dt)\n",
    "\n",
    "                prefix=f\"{nexrad_dt.year}/{nexrad_dt.month:02}/{nexrad_dt.day:02}/{site_code}\"\n",
    "                aws_nexrad_level2_file = f\"s3://noaa-nexrad-level2/{prefix}/{site_code}{nexrad_dt.year}{nexrad_dt.month:02}{nexrad_dt.day:02}_{nexrad_dt.hour:02}{nexrad_dt.minute:02}{nexrad_dt.second:02}_V06\"\n",
    "                radars.append(aws_nexrad_level2_file)\n",
    "            # break # Break to only add the closest NEXRAD file\n",
    "\n",
    "        all_radars.append(radars)\n",
    "    print(f\"There were {missing} sites missing data\")\n",
    "    pireps_df['aws_files'] = all_radars"
   ]
  },
  {
   "cell_type": "code",
   "execution_count": null,
   "metadata": {},
   "outputs": [],
   "source": [
    "get_closest_nexrad_files(pireps_df)\n",
    "# Output the df to csv for ease of access\n",
    "pireps_df.to_csv(\"pireps_w_closest_radars.csv\", index=False)\n",
    "pireps_df[['datetime', 'nexrad_sites', 'aws_files']]"
   ]
  }
 ],
 "metadata": {
  "kernelspec": {
   "display_name": "Python 3",
   "language": "python",
   "name": "python3"
  },
  "language_info": {
   "codemirror_mode": {
    "name": "ipython",
    "version": 3
   },
   "file_extension": ".py",
   "mimetype": "text/x-python",
   "name": "python",
   "nbconvert_exporter": "python",
   "pygments_lexer": "ipython3",
   "version": "3.9.0"
  }
 },
 "nbformat": 4,
 "nbformat_minor": 2
}
