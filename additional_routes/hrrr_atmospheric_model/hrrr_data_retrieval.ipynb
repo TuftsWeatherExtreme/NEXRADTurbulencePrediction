{
 "cells": [
  {
   "cell_type": "markdown",
   "metadata": {},
   "source": [
    "# hrrr_data_retrieval.ipynb\n",
    "Team Celestial Blue\n",
    "<br>\n",
    "Spring 2025"
   ]
  },
  {
   "cell_type": "markdown",
   "metadata": {},
   "source": [
    "for more info on herbie, specifically downloading data, parsing through it, etc, visit the [herbie docs](https://herbie.readthedocs.io/en/stable/user_guide/start-your-engines.html#GRIB2-file-inventory)"
   ]
  },
  {
   "cell_type": "code",
   "execution_count": null,
   "metadata": {},
   "outputs": [],
   "source": [
    "from herbie import Herbie # https://herbie.readthedocs.io/en/stable/\n",
    "import xarray as xr"
   ]
  },
  {
   "cell_type": "code",
   "execution_count": null,
   "metadata": {},
   "outputs": [],
   "source": [
    "# Initialize Herbie to fetch HRRR model data \n",
    "H = Herbie(\n",
    "    \"2021-07-01 12:00\",  # model run date\n",
    "    model=\"hrrr\",  # model name :)\n",
    "    product=\"sfc\",  # model produce name \n",
    "    fxx=6,  # forecast lead time (aka how many hrs after model run date we are predicting on -- believe this goes to a max of 18 for HRRR)\n",
    ")"
   ]
  },
  {
   "cell_type": "code",
   "execution_count": null,
   "metadata": {},
   "outputs": [],
   "source": [
    "# Check available GRIB2 files and get overview of the dataset\n",
    "print(\"GRIB2 file location:\", H.grib)\n",
    "print(\"Available variables in the dataset:\")\n",
    "H.inventory()"
   ]
  },
  {
   "cell_type": "code",
   "execution_count": null,
   "metadata": {},
   "outputs": [],
   "source": [
    "# The following are the variables that you can get from the HRRR model\n",
    "# see https://home.chpc.utah.edu/~u0553130/Brian_Blaylock/HRRR_archive/hrrr_sfc_table_f00-f01.html for the full, unshortened names\n",
    "H.inventory()['variable'].tolist()[:10]"
   ]
  }
 ],
 "metadata": {
  "kernelspec": {
   "display_name": "sr-capstone",
   "language": "python",
   "name": "python3"
  },
  "language_info": {
   "codemirror_mode": {
    "name": "ipython",
    "version": 3
   },
   "file_extension": ".py",
   "mimetype": "text/x-python",
   "name": "python",
   "nbconvert_exporter": "python",
   "pygments_lexer": "ipython3",
   "version": "3.12.6"
  }
 },
 "nbformat": 4,
 "nbformat_minor": 2
}
