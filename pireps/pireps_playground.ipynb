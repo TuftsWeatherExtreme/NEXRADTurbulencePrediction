{
 "cells": [
  {
   "cell_type": "markdown",
   "metadata": {},
   "source": [
    "# Get PIREPS data"
   ]
  },
  {
   "cell_type": "markdown",
   "metadata": {},
   "source": [
    "## Data Dictionary\n",
    "\n",
    "### Intensities \n",
    "LGT - Light  \n",
    "MOD - Moderate  \n",
    "SEV - Severe  \n",
    "EXT - Extreme\n",
    "\n",
    "### Frequencies\n",
    "INTMT - Intermittent \n",
    "OCL - Occasional  \n",
    "CONS - Constant  \n",
    "\n",
    "### Turbulence types\n",
    "CAT - Clear Air Turbulence  \n",
    "CHOP - "
   ]
  },
  {
   "cell_type": "code",
   "execution_count": null,
   "metadata": {},
   "outputs": [],
   "source": [
    "import requests\n",
    "import os\n",
    "import numpy as np\n",
    "import pandas as pd"
   ]
  },
  {
   "cell_type": "markdown",
   "metadata": {},
   "source": [
    "## Download PIREPs from January 2025"
   ]
  },
  {
   "cell_type": "code",
   "execution_count": null,
   "metadata": {},
   "outputs": [],
   "source": [
    "\n",
    "BASE_URL = \"https://mesonet.agron.iastate.edu/cgi-bin/request/gis/pireps.py\"\n",
    "\n",
    "year = 2025\n",
    "month = 1\n",
    "query = {\"year1\": year, \n",
    "         \"month1\": month, \n",
    "         \"year2\": year, \n",
    "         \"month2\": month + 1,\n",
    "         \"artcc\": \"_ALL\", \n",
    "         \"fmt\": \"csv\"}\n",
    "print(f\"Performing GET request, this may take a moment...\")\n",
    "r = requests.get(f\"{BASE_URL}\", params=query, stream=True)\n",
    "dirname = os.path.join(\"raw_pirep_data\", str(year))\n",
    "os.makedirs(dirname, exist_ok=True)\n",
    "filename = os.path.join(dirname, f\"{month:02}_raw_pireps.csv\")\n",
    "with open(filename, 'w') as file:\n",
    "    file.write(r.text)\n",
    "print(f\"Finished writing file to {filename}\")"
   ]
  },
  {
   "cell_type": "code",
   "execution_count": null,
   "metadata": {},
   "outputs": [],
   "source": [
    "# This chunk converts our pireps csv to a pandas DF.\n",
    "import pandas as pd\n",
    "\n",
    "pireps = pd.read_csv(filename, on_bad_lines=\"skip\")\n",
    "print(pireps.columns)\n"
   ]
  },
  {
   "cell_type": "markdown",
   "metadata": {},
   "source": [
    "### Building new columns\n",
    "This section will add to our existing PIREPS DF. First, we need to build a time column in a datetime format, so that it's compatible with our NEXRAD DataFrame."
   ]
  },
  {
   "cell_type": "code",
   "execution_count": null,
   "metadata": {},
   "outputs": [],
   "source": [
    "pireps['datetime'] = pd.to_datetime(pireps['VALID'], format='%Y%m%d%H%M')\n",
    "\n",
    "# Display the first few rows to confirm the conversion\n",
    "print(pireps[['VALID', 'datetime']].head(5))"
   ]
  },
  {
   "cell_type": "markdown",
   "metadata": {},
   "source": [
    "Next, we want to have a turbulence intensity category. We can do this by extracting key information from our TURB column."
   ]
  },
  {
   "cell_type": "code",
   "execution_count": null,
   "metadata": {},
   "outputs": [],
   "source": [
    "def get_turb_intensity(row):\n",
    "\n",
    "    turb_list = str(row['TURBULENCE']).replace('-', ' ').split()\n",
    "\n",
    "     # Handle cases where PIREP contains two levels of turbulence without a dash\n",
    "    if 'LGT' in turb_list and 'MOD' in turb_list:\n",
    "         return 2\n",
    "    \n",
    "    if 'MOD' in turb_list and 'SEV' in turb_list:\n",
    "         return 4\n",
    "    \n",
    "    if 'SEV' in turb_list and 'EXTRM' in turb_list:\n",
    "         return 6\n",
    "\n",
    "    # Define the turbulence intensity map\n",
    "    turbulence_map = {\n",
    "        'NONE': 0,\n",
    "        'NEG': 0,\n",
    "        'LGT': 1,\n",
    "        'MOD': 3,\n",
    "        'SEV': 5,\n",
    "        'EXTRM': 7\n",
    "    }\n",
    "\n",
    "    # Check for NaN\n",
    "    if 'nan' in turb_list:\n",
    "            return np.nan\n",
    "        \n",
    "    # Look for turbulence intensity in the map\n",
    "    for key in turbulence_map:\n",
    "        if key in turb_list:\n",
    "            return turbulence_map[key]\n",
    "        \n",
    "   \n",
    "        \n",
    "     # Return NaN if no known turbulence level is found\n",
    "    return np.nan\n",
    "pireps['turbulence_intensity'] = pireps.apply(get_turb_intensity, axis = 1)\n"
   ]
  },
  {
   "cell_type": "code",
   "execution_count": null,
   "metadata": {},
   "outputs": [],
   "source": [
    "pireps['turbulence_intensity'] = pireps.apply(get_turb_intensity, axis = 1)\n",
    "print(pireps['turbulence_intensity'].unique())"
   ]
  },
  {
   "cell_type": "code",
   "execution_count": null,
   "metadata": {},
   "outputs": [],
   "source": [
    "subset = pireps[pireps['turbulence_intensity'] == 0]\n",
    "print(subset.URGENT)"
   ]
  },
  {
   "cell_type": "code",
   "execution_count": null,
   "metadata": {},
   "outputs": [],
   "source": [
    "pireps.head()"
   ]
  },
  {
   "cell_type": "code",
   "execution_count": null,
   "metadata": {},
   "outputs": [],
   "source": [
    "only_turb_pireps = pireps.dropna(subset=['turbulence_intensity'])"
   ]
  },
  {
   "cell_type": "code",
   "execution_count": null,
   "metadata": {},
   "outputs": [],
   "source": [
    "# Sort the pireps into 2 sets - 1 with pireps for turbulence and 1 without\n",
    "turb_pireps = pireps[~np.isnan(pireps['turbulence_intensity'])]\n",
    "non_turb_pireps = pireps[np.isnan(pireps['turbulence_intensity'])]\n",
    "len(non_turb_pireps.index)\n",
    "turb_pireps"
   ]
  },
  {
   "cell_type": "code",
   "execution_count": null,
   "metadata": {},
   "outputs": [],
   "source": [
    "clean_turb_pireps = turb_pireps.drop([\"ICING\", \"ATRCC\", \"PRODUCT_ID\", \"VALID\"], axis=1)\n",
    "\n",
    "clean_turb_pireps"
   ]
  }
 ],
 "metadata": {
  "kernelspec": {
   "display_name": ".venv",
   "language": "python",
   "name": "python3"
  },
  "language_info": {
   "codemirror_mode": {
    "name": "ipython",
    "version": 3
   },
   "file_extension": ".py",
   "mimetype": "text/x-python",
   "name": "python",
   "nbconvert_exporter": "python",
   "pygments_lexer": "ipython3",
   "version": "3.10.0"
  }
 },
 "nbformat": 4,
 "nbformat_minor": 2
}
